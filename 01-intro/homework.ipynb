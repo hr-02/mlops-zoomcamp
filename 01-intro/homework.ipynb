{
 "cells": [
  {
   "cell_type": "code",
   "execution_count": 2,
   "id": "b6c8e3bb-5736-4528-b3a3-22d53ada88cb",
   "metadata": {},
   "outputs": [],
   "source": [
    "import pandas as pd"
   ]
  },
  {
   "cell_type": "code",
   "execution_count": 3,
   "id": "49dd5a2f-ae4f-451b-8436-2caf8b3a1ef9",
   "metadata": {},
   "outputs": [
    {
     "data": {
      "text/plain": [
       "'2.2.2'"
      ]
     },
     "execution_count": 3,
     "metadata": {},
     "output_type": "execute_result"
    }
   ],
   "source": [
    "pd.__version__"
   ]
  },
  {
   "cell_type": "code",
   "execution_count": 4,
   "id": "ebe6cb65-646b-4a88-a5b4-748a5a3b3efe",
   "metadata": {},
   "outputs": [],
   "source": [
    "import pickle"
   ]
  },
  {
   "cell_type": "code",
   "execution_count": 5,
   "id": "55bee243-53ae-4240-98a7-e6b5037c26fb",
   "metadata": {},
   "outputs": [],
   "source": [
    "import seaborn as sns\n",
    "import matplotlib.pyplot as plt"
   ]
  },
  {
   "cell_type": "code",
   "execution_count": 6,
   "id": "df70160b-2ab0-4d2f-bd36-06d0f4a1c39e",
   "metadata": {},
   "outputs": [],
   "source": [
    "from sklearn.feature_extraction import DictVectorizer\n",
    "from sklearn.linear_model import LinearRegression\n",
    "from sklearn.linear_model import Lasso\n",
    "from sklearn.linear_model import Ridge\n",
    "\n",
    "from sklearn.metrics import mean_squared_error"
   ]
  },
  {
   "cell_type": "code",
   "execution_count": 7,
   "id": "f9d69391-558c-4695-aac4-3d849e6e293c",
   "metadata": {},
   "outputs": [],
   "source": [
    "def read_dataframe(filename):\n",
    "    if filename.endswith('.csv'):\n",
    "        df = pd.read_csv(filename)\n",
    "\n",
    "        df.tpep_dropoff_datetime = pd.to_datetime(df.tpep_dropoff_datetime)\n",
    "        df.tpep_pickup_datetime = pd.to_datetime(df.tpep_pickup_datetime)\n",
    "    elif filename.endswith('.parquet'):\n",
    "        df = pd.read_parquet(filename)\n",
    "\n",
    "    df['duration'] = df.tpep_dropoff_datetime - df.tpep_pickup_datetime\n",
    "\n",
    "    categorical = ['PULocationID', 'DOLocationID']\n",
    "    df[categorical] = df[categorical].astype(str)\n",
    "\n",
    "    return df"
   ]
  },
  {
   "cell_type": "code",
   "execution_count": 8,
   "id": "390d50fb-39c0-43db-b601-18c783aac05e",
   "metadata": {},
   "outputs": [],
   "source": [
    "df_jan=read_dataframe('https://d37ci6vzurychx.cloudfront.net/trip-data/yellow_tripdata_2023-01.parquet')"
   ]
  },
  {
   "cell_type": "code",
   "execution_count": null,
   "id": "85c9c754-529e-4497-97bd-90832da6d083",
   "metadata": {},
   "outputs": [],
   "source": [
    "df_feb=read_dataframe('https://d37ci6vzurychx.cloudfront.net/trip-data/yellow_tripdata_2023-02.parquet')"
   ]
  },
  {
   "cell_type": "code",
   "execution_count": null,
   "id": "8ab3fd7d-7199-41bc-8914-85b51d15f9b8",
   "metadata": {},
   "outputs": [],
   "source": [
    "df_jan"
   ]
  },
  {
   "cell_type": "code",
   "execution_count": null,
   "id": "f9527494-5f8d-4c97-a40b-4c7ecfa11392",
   "metadata": {},
   "outputs": [],
   "source": [
    "df_jan.shape"
   ]
  },
  {
   "cell_type": "code",
   "execution_count": null,
   "id": "d2655117-2f91-41c7-8acd-8989c98f9620",
   "metadata": {},
   "outputs": [],
   "source": [
    "df_jan.duration.describe()"
   ]
  },
  {
   "cell_type": "code",
   "execution_count": null,
   "id": "d2266a20-e9dc-4a82-ace7-dc404a7cc863",
   "metadata": {},
   "outputs": [],
   "source": [
    "df_jan.duration = df_jan.duration.apply(lambda td: td.total_seconds() / 60)\n",
    "df_jan = df_jan[(df_jan.duration >= 1) & (df_jan.duration <= 60)]\n",
    "\n",
    "df_feb.duration = df_feb.duration.apply(lambda td: td.total_seconds() / 60)\n",
    "df_feb = df_feb[(df_feb.duration >= 1) & (df_feb.duration <= 60)]"
   ]
  },
  {
   "cell_type": "code",
   "execution_count": null,
   "id": "87346f81-e068-4449-961a-01f72f63a9d9",
   "metadata": {},
   "outputs": [],
   "source": [
    "df_jan.shape"
   ]
  },
  {
   "cell_type": "code",
   "execution_count": null,
   "id": "4fc2067d-6fa6-4366-bdc3-9650b4ed36a8",
   "metadata": {},
   "outputs": [],
   "source": [
    "df_feb.shape"
   ]
  },
  {
   "cell_type": "code",
   "execution_count": null,
   "id": "0609b38b-1837-43ac-837a-1dda0b0256f7",
   "metadata": {},
   "outputs": [],
   "source": [
    "fract_after_drop_outliers=(3009173/3066766)*100\n",
    "fract_after_drop_outliers"
   ]
  },
  {
   "cell_type": "code",
   "execution_count": null,
   "id": "db2b404d-bd37-4656-9ae2-e91e73d326ed",
   "metadata": {},
   "outputs": [],
   "source": [
    "df_jan['PU_DO'] = df_jan['PULocationID'] + '_' + df_jan['DOLocationID']\n",
    "df_feb['PU_DO'] = df_feb['PULocationID'] + '_' + df_feb['DOLocationID']"
   ]
  },
  {
   "cell_type": "code",
   "execution_count": null,
   "id": "622db949-db94-44e7-8b34-d3f39d5400d2",
   "metadata": {},
   "outputs": [],
   "source": [
    "categorical = ['PU_DO']\n",
    "numerical = ['trip_distance']\n"
   ]
  },
  {
   "cell_type": "code",
   "execution_count": null,
   "id": "b5c899bc-c023-4917-8589-d2b91f4632f9",
   "metadata": {},
   "outputs": [],
   "source": [
    "train_dicts = df_jan[categorical + numerical].to_dict(orient='records')\n",
    "val_dicts = df_feb[categorical + numerical].to_dict(orient='records')\n",
    "\n",
    "dv = DictVectorizer()\n",
    "X_train = dv.fit_transform(train_dicts)\n",
    "X_val = dv.transform(val_dicts)\n",
    "\n",
    "target = 'duration'\n",
    "y_train = df_jan[target].values\n",
    "y_val = df_feb[target].values\n",
    "\n",
    "lr = LinearRegression()\n",
    "lr.fit(X_train, y_train)\n",
    "\n",
    "y_pred = lr.predict(X_train)\n",
    "\n",
    "mean_squared_error(y_train, y_pred, squared=False)"
   ]
  },
  {
   "cell_type": "code",
   "execution_count": null,
   "id": "76da6365-3842-4dcd-ba45-331991e88fbb",
   "metadata": {},
   "outputs": [],
   "source": [
    "with open('models/lin_reg.bin', 'wb') as f_out:\n",
    "    pickle.dump((dv, lr), f_out)"
   ]
  },
  {
   "cell_type": "code",
   "execution_count": null,
   "id": "239434cc-4040-42c7-87b7-6d6beb76efda",
   "metadata": {},
   "outputs": [],
   "source": [
    "y_pred = lr.predict(X_val)\n",
    "mean_squared_error(y_val, y_pred, squared=False)"
   ]
  },
  {
   "cell_type": "code",
   "execution_count": null,
   "id": "b99df496-8fa9-4ff6-8c9c-17dfb3c43dcd",
   "metadata": {},
   "outputs": [],
   "source": []
  },
  {
   "cell_type": "code",
   "execution_count": null,
   "id": "a0fbfbc9-289b-4f0f-9a21-10ad87dab2fe",
   "metadata": {},
   "outputs": [],
   "source": []
  }
 ],
 "metadata": {
  "kernelspec": {
   "display_name": "Python 3 (ipykernel)",
   "language": "python",
   "name": "python3"
  },
  "language_info": {
   "codemirror_mode": {
    "name": "ipython",
    "version": 3
   },
   "file_extension": ".py",
   "mimetype": "text/x-python",
   "name": "python",
   "nbconvert_exporter": "python",
   "pygments_lexer": "ipython3",
   "version": "3.10.13"
  }
 },
 "nbformat": 4,
 "nbformat_minor": 5
}
